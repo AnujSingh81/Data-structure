{
  "nbformat": 4,
  "nbformat_minor": 0,
  "metadata": {
    "colab": {
      "provenance": []
    },
    "kernelspec": {
      "name": "python3",
      "display_name": "Python 3"
    },
    "language_info": {
      "name": "python"
    }
  },
  "cells": [
    {
      "cell_type": "markdown",
      "source": [
        "## 1. What are data structures, and why are they important?\n",
        "  -> A data structure is a organize way to store and manange data to perform    \n",
        "     operation efficiently.\n",
        "     Data structure is important in programming because it make our data more readable, effective,scalable, better memory ususage."
      ],
      "metadata": {
        "id": "E2cBcmvnv3rM"
      }
    },
    {
      "cell_type": "markdown",
      "source": [
        "## 2. Explain the difference between mutable and immutable data types with examples?\n",
        "  -> the Key difference between mutable and imutable data type is that in mutable we can assign a new value to a exisiting varible or element while in immutable data type after assign a value to an element we cannot change or assign a new value to same element.\n",
        "  example of mutable data type is list, dictionary and set.\n",
        "  example of immutable data tpye is tuple, string\n",
        "\n"
      ],
      "metadata": {
        "id": "QmcOAdHJv3nk"
      }
    },
    {
      "cell_type": "markdown",
      "source": [
        "## 3.  What are the main differences between lists and tuples in Python?\n",
        "  -> The main difference between lists and tuple are the following\n",
        "\n",
        "*   Lists are mutable in nuture whereas tuple are immutable\n",
        "*   Lists consume more memory compare to tuple\n",
        "*   tuples are faster in excution compare to list\n",
        "\n",
        "\n",
        "\n",
        "\n",
        "\n"
      ],
      "metadata": {
        "id": "BQDoYmC-4VAA"
      }
    },
    {
      "cell_type": "markdown",
      "source": [
        "## 4.Describe how dictionaries store data?\n",
        "  -> A dictionary in Python is a collection of key-value pairs where each key maps to a specific value. It is implemented using a hash table, which ensures fast lookup, insertion, and deletion operations.Keys must be unique and immutable.Values can be mutable and of any data type"
      ],
      "metadata": {
        "id": "coizZgGTv3DV"
      }
    },
    {
      "cell_type": "markdown",
      "source": [
        "## 5.Why might you use a set instead of a list in Python ?\n",
        "  ->A set is an unordered collection of unique elements, while a list can have duplicate values and set also having faster lookup compare to list."
      ],
      "metadata": {
        "id": "HLKPNVf_7lnB"
      }
    },
    {
      "cell_type": "markdown",
      "source": [
        " ##  6.What is a string in Python, and how is it different from a list?\n",
        " -> A string in Python is a sequence of characters enclosed in quotes (single and double quotes). It is immutable, meaning once created, it cannot be changed\n",
        "\n",
        " there are following difference between string and list.\n",
        "\n",
        "1.   string are sequencial character while list are sequenical to any data type.\n",
        "2.   strings are immutable while list are mutable\n",
        "\n"
      ],
      "metadata": {
        "id": "DvftDalj85Pa"
      }
    },
    {
      "cell_type": "markdown",
      "source": [
        "## 7. How do tuples ensure data integrity in Python ?\n",
        "  -> tuples ensure data integrity in python, because tuple is immutable, once a value is assigned it cannot be changed later"
      ],
      "metadata": {
        "id": "9EOAVeDy_Hxl"
      }
    },
    {
      "cell_type": "markdown",
      "source": [
        "## 8. What is a hash table, and how does it relate to dictionaries in Python?\n",
        "  -> A hash table is a data structure that stores key-value pairs and allows for fast data retrieval. It works by using a hash function to compute an index (or hash code) for a given key, which determines where the corresponding value should be stored. hash table makes dictionaries\n",
        "Fast key-value lookups,Efficient insertion and deletion,Automatic handling of collisions"
      ],
      "metadata": {
        "id": "b5f_8wScPIZD"
      }
    },
    {
      "cell_type": "markdown",
      "source": [
        "## 9. Can lists contain different data types in Python?\n",
        "  -> Yes a list can contain different types in python like string,integer,float,boolen etc."
      ],
      "metadata": {
        "id": "xglRxmxhQlFS"
      }
    },
    {
      "cell_type": "markdown",
      "source": [
        "## 10.  Explain why strings are immutable in Python?\n",
        "  -> Strings in Python are immutable for efficiency, security, and reliability. This enables string better  for memory optimization, ensures consistent hashing for dictionary keys, prevents unintended modifications, and enhances thread safety. Instead of modifying, Python creates new strings* making programs more predictable and reducing bugs caused by accidental changes."
      ],
      "metadata": {
        "id": "82v1OSmARJtm"
      }
    },
    {
      "cell_type": "markdown",
      "source": [
        "## 11. What advantages do dictionaries offer over lists for certain tasks?\n",
        "  -> Dictionaries offer faster lookups (O(1) on average) compared to lists, which require O(n) time for searching. They allow key-value pair mapping, making them ideal for tasks like counting, grouping, or associating data. Dictionaries also provide direct access to elements using keys, unlike lists, which require indexing."
      ],
      "metadata": {
        "id": "E63J4xCWSeXC"
      }
    },
    {
      "cell_type": "markdown",
      "source": [
        "## 12. Describe a scenario where using a tuple would be preferable over a list?\n",
        "  -> A tuple is preferable over a list when immutability and performance are important.\n",
        "   Scenario: Database Records (Ensuring Data Integrity)\n",
        "  1.When storing fixed, unchangeable data like a database row, a tuple is ideal:\n",
        "  2.Prevents accidental modifications\n",
        "  3.More memory-efficient and faster than lists"
      ],
      "metadata": {
        "id": "6gsuvJ3VTbSY"
      }
    },
    {
      "cell_type": "markdown",
      "source": [
        "## 13. How do sets handle duplicate values in Python?\n",
        "  -> Sets in Python automatically remove duplicates because they store only unique elements. When adding a duplicate value, the set ignores it. This is achieved using hashing, ensuring fast lookups (O(1) on average). Sets are useful for removing duplicates from lists and performing set operations like union and intersection. 🚀"
      ],
      "metadata": {
        "id": "lwF5vce9U5aN"
      }
    },
    {
      "cell_type": "markdown",
      "source": [],
      "metadata": {
        "id": "tsigLGdY8stq"
      }
    },
    {
      "cell_type": "markdown",
      "source": [
        "## 14.How does the “in” keyword work differently for lists and dictionaries?\n",
        "   -> The in keyword is used to check for the existence of an element, but it works differently for lists and dictionaries in terms of behavior and performance.\n",
        "\n",
        "1. in with Lists (Checks Values, O(n) Time Complexity)\n",
        "The in keyword searches through all elements of a list.\n",
        "It performs a linear search (O(n)), meaning it checks each element one by one.\n",
        "2. in with Dictionaries (Checks Keys, O(1) on Average)\n",
        "In a dictionary, in checks only keys, not values.\n",
        "Lookup is much faster (O(1) on average) because dictionaries use hashing."
      ],
      "metadata": {
        "id": "wpuza6uRVqFT"
      }
    },
    {
      "cell_type": "markdown",
      "source": [
        "## 15. Can you modify the elements of a tuple? Explain why or why not?\n",
        "  -> No, you cannot modify any item of a tuple because tuples are immutable in Python. following are the reason\n",
        " 1.Memory Efficiency & Performance - Tuples are stored in a way that optimizes memory usage.\n",
        " 2.Hashability - Tuples can be used as dictionary keys or set elements because they don\"t change.\n",
        " 3.Data Integrity - Prevents accidental modification, making them ideal for fixed data like coordinates or database records."
      ],
      "metadata": {
        "id": "ooyElOxIWmen"
      }
    },
    {
      "cell_type": "markdown",
      "source": [
        "## 16. What is a nested dictionary, and give an example of its use case?\n",
        "  -> A nested dictionary is a dictionary inside another dictionary, allowing for a hierarchical data structure.\n",
        "  Use Case- Storing Student Records,A school system can use a nested dictionary to store multiple students' details:"
      ],
      "metadata": {
        "id": "mduPBPFxXszC"
      }
    },
    {
      "cell_type": "markdown",
      "source": [
        "## 17. Describe the time complexity of accessing elements in a dictionary?\n",
        "  -> Time Complexity of Accessing Elements in a Dictionary\n",
        "In Python, dictionaries use a hash table for storage, which makes element access highly efficient.\n",
        "1. Average Case (O(1)) - Fast Lookup\n",
        "Accessing an element by key is O(1) on average because the dictionary uses hashing to find the key directly.\n",
        "2. Worst Case (O(n)) -Rare Collisions\n",
        "If many keys hash to the same value (hash collisions), Python resolves them using chaining (storing multiple values in a bucket).\n",
        "In the worst case, searching could become O(n) if all elements end up in the same bucket.\n",
        "This is rare because Python optimizes hashing and resizes dictionaries to maintain efficiency."
      ],
      "metadata": {
        "id": "NXcECwgkYTB9"
      }
    },
    {
      "cell_type": "markdown",
      "source": [
        "##18.In what situations are lists preferred over dictionaries?\n",
        "  ->Lists are preferred when order matters, for small datasets, or when indexed access is needed. They allow duplicates, support fast iteration, and use less memory than dictionaries. Lists are also ideal for sorting, slicing, and sequential processing, making them suitable for queues, ordered data, and numerical computations."
      ],
      "metadata": {
        "id": "8iih4RhtZTIa"
      }
    },
    {
      "cell_type": "markdown",
      "source": [
        "## 19.Why are dictionaries considered unordered, and how does that affect data retrieval?\n",
        "  -> Dictionaries were historically unordered because they use hash tables for fast key lookups instead of maintaining order. Since Python 3.7+, they preserve insertion order, but retrieval is still key-based, not index-based. This means you can't access elements by position, only by keys, ensuring fast lookups (O(1) on average)"
      ],
      "metadata": {
        "id": "dAcB-CweZ6ux"
      }
    },
    {
      "cell_type": "markdown",
      "source": [
        "## 20. Explain the difference between a list and a dictionary in terms of data retrieval.?\n",
        "  -> A list retrieves data using index-based access, meaning elements are accessed by position (list[index]). This allows O(1) retrieval but requires O(n) time for searching specific values.\n",
        "\n",
        "A dictionary retrieves data using key-based access (dict[key]), leveraging hashing for O(1) average-time lookups. Unlike lists, dictionaries do not support index-based access, and elements must be retrieved by their keys.\n",
        "\n",
        "While lists maintain a strict order and allow duplicate values, dictionaries (since Python 3.7) preserve insertion order but enforce unique keys. Lists are best for sequences, while dictionaries excel in fast lookups and key-value mapping"
      ],
      "metadata": {
        "id": "H9QxrVFXa7yA"
      }
    },
    {
      "cell_type": "markdown",
      "source": [],
      "metadata": {
        "id": "p5WBm9Bo_BwI"
      }
    },
    {
      "cell_type": "code",
      "execution_count": null,
      "metadata": {
        "id": "bCz-ZdCOvpEu",
        "colab": {
          "base_uri": "https://localhost:8080/"
        },
        "outputId": "c972dbdf-e330-4e6c-f9cf-a91bda522f56"
      },
      "outputs": [
        {
          "output_type": "stream",
          "name": "stdout",
          "text": [
            "Anuj kumar singh\n"
          ]
        }
      ],
      "source": [
        "# 1.Write a code to create a string with your name and print it?\n",
        "a = \"Anuj kumar singh\"\n",
        "print(a)"
      ]
    },
    {
      "cell_type": "code",
      "source": [
        "#2.Write a code to find the length of the string \"Hello World\"?\n",
        "a= \"Hello World\"\n",
        "print(len(a))"
      ],
      "metadata": {
        "colab": {
          "base_uri": "https://localhost:8080/"
        },
        "id": "8Rx8siR4GXkG",
        "outputId": "5808d652-56e0-4e04-f6bc-e0d0581b5aeb"
      },
      "execution_count": null,
      "outputs": [
        {
          "output_type": "stream",
          "name": "stdout",
          "text": [
            "11\n"
          ]
        }
      ]
    },
    {
      "cell_type": "code",
      "source": [
        "#3.Write a code to slice the first 3 characters from the string \"Python Programming\"?\n",
        "b = \"Python Programming\"\n",
        "print(b[0:3])"
      ],
      "metadata": {
        "colab": {
          "base_uri": "https://localhost:8080/"
        },
        "id": "WDka6JpeGpRQ",
        "outputId": "a688f42d-7c59-4ad1-cb99-de15b48e222f"
      },
      "execution_count": null,
      "outputs": [
        {
          "output_type": "stream",
          "name": "stdout",
          "text": [
            "Pyt\n"
          ]
        }
      ]
    },
    {
      "cell_type": "code",
      "source": [
        "#4.Write a code to convert the string \"hello\" to uppercase?\n",
        "word= \"hello\"\n",
        "word.upper()"
      ],
      "metadata": {
        "colab": {
          "base_uri": "https://localhost:8080/",
          "height": 36
        },
        "id": "9i1tpzG2G5zy",
        "outputId": "194d06fa-a6fa-4201-936e-ce5889071a56"
      },
      "execution_count": null,
      "outputs": [
        {
          "output_type": "execute_result",
          "data": {
            "text/plain": [
              "'HELLO'"
            ],
            "application/vnd.google.colaboratory.intrinsic+json": {
              "type": "string"
            }
          },
          "metadata": {},
          "execution_count": 8
        }
      ]
    },
    {
      "cell_type": "code",
      "source": [
        "#5.Write a code to replace the word \"apple\" with \"orange\" in the string \"I like apple\"\n",
        "st = \"I like apple\"\n",
        "st.replace(\"apple\",\"orange\")"
      ],
      "metadata": {
        "colab": {
          "base_uri": "https://localhost:8080/",
          "height": 36
        },
        "id": "VWRWrYvVHbxc",
        "outputId": "9ad10160-0217-494d-85e7-66aacc599487"
      },
      "execution_count": null,
      "outputs": [
        {
          "output_type": "execute_result",
          "data": {
            "text/plain": [
              "'I like orange'"
            ],
            "application/vnd.google.colaboratory.intrinsic+json": {
              "type": "string"
            }
          },
          "metadata": {},
          "execution_count": 9
        }
      ]
    },
    {
      "cell_type": "code",
      "source": [
        "#6.Write a code to create a list with numbers 1 to 5 and print it?\n",
        "list_a = [1,2,3,4,5]\n",
        "print(list_a)"
      ],
      "metadata": {
        "id": "LGKVkzgAH0JT",
        "colab": {
          "base_uri": "https://localhost:8080/"
        },
        "outputId": "b58d295a-5272-499f-b43b-e87ade446e76"
      },
      "execution_count": null,
      "outputs": [
        {
          "output_type": "stream",
          "name": "stdout",
          "text": [
            "[1, 2, 3, 4, 5]\n"
          ]
        }
      ]
    },
    {
      "cell_type": "code",
      "source": [
        "#7.Write a code to append the number 10 to the list [1, 2, 3, 4]?\n",
        "list_b = [1,2,3,4]\n",
        "list_b.append(10)\n",
        "\n",
        "list_b"
      ],
      "metadata": {
        "colab": {
          "base_uri": "https://localhost:8080/"
        },
        "id": "sPG9sizcUFUD",
        "outputId": "75edf5ad-3546-446e-81c2-aa98848104c0"
      },
      "execution_count": null,
      "outputs": [
        {
          "output_type": "execute_result",
          "data": {
            "text/plain": [
              "[1, 2, 3, 4, 10]"
            ]
          },
          "metadata": {},
          "execution_count": 11
        }
      ]
    },
    {
      "cell_type": "code",
      "source": [
        "#8.Write a code to remove the number 3 from the list [1, 2, 3, 4, 5]?\n",
        "list_c = [1,2,3,4,5]\n",
        "list_c.remove(3)\n",
        "list_c"
      ],
      "metadata": {
        "colab": {
          "base_uri": "https://localhost:8080/"
        },
        "id": "-GsbPFYzUbWL",
        "outputId": "149f140a-e772-4132-ee8b-d9e23102758d"
      },
      "execution_count": null,
      "outputs": [
        {
          "output_type": "execute_result",
          "data": {
            "text/plain": [
              "[1, 2, 4, 5]"
            ]
          },
          "metadata": {},
          "execution_count": 12
        }
      ]
    },
    {
      "cell_type": "code",
      "source": [
        "#9. Write a code to access the second element in the list ['a', 'b', 'c', 'd']?\n",
        "list_d = ['a', 'b', 'c', 'd']\n",
        "list_d[1]"
      ],
      "metadata": {
        "colab": {
          "base_uri": "https://localhost:8080/",
          "height": 36
        },
        "id": "av-mgwWwUtdF",
        "outputId": "bfe7e6fb-c535-405e-f88b-f843f5068248"
      },
      "execution_count": null,
      "outputs": [
        {
          "output_type": "execute_result",
          "data": {
            "text/plain": [
              "'b'"
            ],
            "application/vnd.google.colaboratory.intrinsic+json": {
              "type": "string"
            }
          },
          "metadata": {},
          "execution_count": 13
        }
      ]
    },
    {
      "cell_type": "code",
      "source": [
        "# 10.Write a code to reverse the list [10, 20, 30, 40, 50]?\n",
        "list_e = [10, 20, 30, 40, 50]\n",
        "list_e.reverse()\n",
        "list_e"
      ],
      "metadata": {
        "colab": {
          "base_uri": "https://localhost:8080/"
        },
        "id": "9bxMDJEYVWJW",
        "outputId": "65941244-c91c-43fc-d2ed-91752494f23e"
      },
      "execution_count": null,
      "outputs": [
        {
          "output_type": "execute_result",
          "data": {
            "text/plain": [
              "[50, 40, 30, 20, 10]"
            ]
          },
          "metadata": {},
          "execution_count": 15
        }
      ]
    },
    {
      "cell_type": "code",
      "source": [
        "# 11.Write a code to create a tuple with the elements 100, 200, 300 and print it?\n",
        "tup = (100,200,300)\n",
        "print(tup)"
      ],
      "metadata": {
        "colab": {
          "base_uri": "https://localhost:8080/"
        },
        "id": "HsFo0_wbVrcJ",
        "outputId": "0846f0b0-4677-4593-8d04-16053f5691c5"
      },
      "execution_count": null,
      "outputs": [
        {
          "output_type": "stream",
          "name": "stdout",
          "text": [
            "(100, 200, 300)\n"
          ]
        }
      ]
    },
    {
      "cell_type": "code",
      "source": [
        "# 12.Write a code to access the second-to-last element of the tuple ('red', 'green', 'blue', 'yellow')?\n",
        "tup_a = ('red', 'green', 'blue', 'yellow')\n",
        "tup_a[-2]"
      ],
      "metadata": {
        "colab": {
          "base_uri": "https://localhost:8080/",
          "height": 36
        },
        "id": "lc8MeyioWDxz",
        "outputId": "6ce2b9e6-d3b9-4add-e683-1f8e760dfbd0"
      },
      "execution_count": null,
      "outputs": [
        {
          "output_type": "execute_result",
          "data": {
            "text/plain": [
              "'blue'"
            ],
            "application/vnd.google.colaboratory.intrinsic+json": {
              "type": "string"
            }
          },
          "metadata": {},
          "execution_count": 18
        }
      ]
    },
    {
      "cell_type": "code",
      "source": [
        "# 13.Write a code to find the minimum number in the tuple (10, 20, 5, 15)?\n",
        "tup_b = (10,20,5,15)\n",
        "print(\"Minimum number in the tuple\"+\" \"+str(min(tup_b)))"
      ],
      "metadata": {
        "id": "2T6JFvV1WvO9",
        "colab": {
          "base_uri": "https://localhost:8080/"
        },
        "outputId": "39c8e0d3-575e-46d3-e956-efa02fc6a1d6"
      },
      "execution_count": null,
      "outputs": [
        {
          "output_type": "stream",
          "name": "stdout",
          "text": [
            "Minimum number in the tuple 5\n"
          ]
        }
      ]
    },
    {
      "cell_type": "code",
      "source": [
        "# 14.Write a code to find the index of the element \"cat\" in the tuple ('dog', 'cat', 'rabbit')?\n",
        "tup_c = ('dog', 'cat', 'rabbit')\n",
        "tup_c.index('cat')"
      ],
      "metadata": {
        "colab": {
          "base_uri": "https://localhost:8080/"
        },
        "id": "QVaA_iWFXuot",
        "outputId": "10d16f8b-bc88-4b8f-9c2f-610776fbf9d8"
      },
      "execution_count": null,
      "outputs": [
        {
          "output_type": "execute_result",
          "data": {
            "text/plain": [
              "1"
            ]
          },
          "metadata": {},
          "execution_count": 23
        }
      ]
    },
    {
      "cell_type": "code",
      "source": [
        "# 15.  Write a code to create a tuple containing three different fruits and check if \"kiwi\" is in it?\n",
        "tup_d = (\"apple\",\"banana\",\"kiwi\",\"mango\")\n",
        "\"kiwi\" in tup_d"
      ],
      "metadata": {
        "colab": {
          "base_uri": "https://localhost:8080/"
        },
        "id": "dsXc3qxUYxuk",
        "outputId": "2f3550ed-2940-43a5-a1fd-54ef3ed6602d"
      },
      "execution_count": null,
      "outputs": [
        {
          "output_type": "execute_result",
          "data": {
            "text/plain": [
              "True"
            ]
          },
          "metadata": {},
          "execution_count": 25
        }
      ]
    },
    {
      "cell_type": "code",
      "source": [
        "# 16.Write a code to create a set with the elements 'a', 'b', 'c' and print it?\n",
        "set_a = {\"a\",\"b\",\"c\"}\n",
        "\n",
        "print(set_a)"
      ],
      "metadata": {
        "id": "gBUwzB41ZAjM",
        "colab": {
          "base_uri": "https://localhost:8080/"
        },
        "outputId": "f9c5e0ce-9643-43e2-d0ac-dccf16793e31"
      },
      "execution_count": 1,
      "outputs": [
        {
          "output_type": "stream",
          "name": "stdout",
          "text": [
            "{'a', 'c', 'b'}\n"
          ]
        }
      ]
    },
    {
      "cell_type": "code",
      "source": [
        "# 17 clear all elements from the set {1, 2, 3, 4, 5}.?. Write a code to\n",
        "set_b = {1,2,3,4,5}\n",
        "set_b.clear()\n",
        "set_b"
      ],
      "metadata": {
        "colab": {
          "base_uri": "https://localhost:8080/"
        },
        "id": "T_bvsYi4F5z1",
        "outputId": "a318bfd8-a1bd-494e-f483-91fac58a4d83"
      },
      "execution_count": 2,
      "outputs": [
        {
          "output_type": "execute_result",
          "data": {
            "text/plain": [
              "set()"
            ]
          },
          "metadata": {},
          "execution_count": 2
        }
      ]
    },
    {
      "cell_type": "code",
      "source": [
        "# 18.Write a code to remove the element 4 from the set {1, 2, 3, 4}.?\n",
        "set_c = {1,2,3,4}\n",
        "set_c.remove(4)\n",
        "set_c"
      ],
      "metadata": {
        "colab": {
          "base_uri": "https://localhost:8080/"
        },
        "id": "bik3ir00GUlA",
        "outputId": "a497295d-802b-43a2-fb9b-f996ec4ef4d4"
      },
      "execution_count": 3,
      "outputs": [
        {
          "output_type": "execute_result",
          "data": {
            "text/plain": [
              "{1, 2, 3}"
            ]
          },
          "metadata": {},
          "execution_count": 3
        }
      ]
    },
    {
      "cell_type": "code",
      "source": [
        "# 19. Write a code to find the union of two sets {1, 2, 3} and {3, 4, 5}.\n",
        "set_d = {1,2,3}\n",
        "set_e = {3,4,5}\n",
        "inion_a = set_d.union(set_e)\n",
        "print(inion_a)"
      ],
      "metadata": {
        "colab": {
          "base_uri": "https://localhost:8080/"
        },
        "id": "Erc1WNO-GsUu",
        "outputId": "586257e0-b53a-4be6-c241-496862d618a3"
      },
      "execution_count": 6,
      "outputs": [
        {
          "output_type": "stream",
          "name": "stdout",
          "text": [
            "{1, 2, 3, 4, 5}\n"
          ]
        }
      ]
    },
    {
      "cell_type": "code",
      "source": [
        "# 20.Write a code to find the intersection of two sets {1, 2, 3} and {2, 3, 4}.?\n",
        "set_f = {1,2,3}\n",
        "set_g = {2,3,4}\n",
        "intersection_a = set_f.intersection(set_g)\n",
        "print(intersection_a)"
      ],
      "metadata": {
        "colab": {
          "base_uri": "https://localhost:8080/"
        },
        "id": "8nX7aSCYHFZt",
        "outputId": "0201f1de-a083-4363-fee3-8b7ef7079984"
      },
      "execution_count": 7,
      "outputs": [
        {
          "output_type": "stream",
          "name": "stdout",
          "text": [
            "{2, 3}\n"
          ]
        }
      ]
    },
    {
      "cell_type": "code",
      "source": [
        "#21. Write a code to create a dictionary with the keys \"name\", \"age\", and \"city\", and print it?\n",
        "dictionary_a = {\"name\":\"Anuj\",\"age\":22,\"city\":\"Delhi\"}\n",
        "print(dictionary_a)"
      ],
      "metadata": {
        "colab": {
          "base_uri": "https://localhost:8080/"
        },
        "id": "1c0N3sDtH2oQ",
        "outputId": "f20fe088-e1c1-4585-8059-6ccfde8c7df0"
      },
      "execution_count": 8,
      "outputs": [
        {
          "output_type": "stream",
          "name": "stdout",
          "text": [
            "{'name': 'Anuj', 'age': 22, 'city': 'Delhi'}\n"
          ]
        }
      ]
    },
    {
      "cell_type": "code",
      "source": [
        "#22. Write a code to add a new key-value pair \"country\": \"USA\" to the dictionary {'name': 'John', 'age': 25}?\n",
        "dictionary_b = {\"name\":\"John\",\"age\":25}\n",
        "dictionary_b[\"country\"] = \"USA\"\n",
        "dictionary_b"
      ],
      "metadata": {
        "colab": {
          "base_uri": "https://localhost:8080/"
        },
        "id": "ZlycxvR2IU8O",
        "outputId": "d86fe644-ff43-488d-d9c9-c66f569b954b"
      },
      "execution_count": 9,
      "outputs": [
        {
          "output_type": "execute_result",
          "data": {
            "text/plain": [
              "{'name': 'John', 'age': 25, 'country': 'USA'}"
            ]
          },
          "metadata": {},
          "execution_count": 9
        }
      ]
    },
    {
      "cell_type": "code",
      "source": [
        "# 23. Write a code to access the value associated with the key \"name\" in the dictionary {'name': 'Alice', 'age': 30}.?\n",
        "dictionary_c = {\"name\":\"Alice\",\"age\":30}\n",
        "dictionary_c[\"name\"]"
      ],
      "metadata": {
        "colab": {
          "base_uri": "https://localhost:8080/",
          "height": 36
        },
        "id": "4DnL2zcoI3OL",
        "outputId": "8da9d903-52a7-4bc8-bb71-17c2dd6704f5"
      },
      "execution_count": 10,
      "outputs": [
        {
          "output_type": "execute_result",
          "data": {
            "text/plain": [
              "'Alice'"
            ],
            "application/vnd.google.colaboratory.intrinsic+json": {
              "type": "string"
            }
          },
          "metadata": {},
          "execution_count": 10
        }
      ]
    },
    {
      "cell_type": "code",
      "source": [
        "#24.Write a code to remove the key \"age\" from the dictionary {'name': 'Bob', 'age': 22, 'city': 'New York'}.?\n",
        "dictionary_d = {\"name\":\"Bob\",\"age\":22,\"city\":\"New York\"}\n",
        "del dictionary_d[\"age\"]\n",
        "dictionary_d"
      ],
      "metadata": {
        "colab": {
          "base_uri": "https://localhost:8080/"
        },
        "id": "DS8N3txpJtls",
        "outputId": "691ccbb5-53fd-48f0-ea3e-84163789baed"
      },
      "execution_count": 12,
      "outputs": [
        {
          "output_type": "execute_result",
          "data": {
            "text/plain": [
              "{'name': 'Bob', 'city': 'New York'}"
            ]
          },
          "metadata": {},
          "execution_count": 12
        }
      ]
    },
    {
      "cell_type": "code",
      "source": [
        "#25.Write a code to check if the key \"city\" exists in the dictionary {'name': 'Alice', 'city': 'Paris'}.?\n",
        "dictionary_e = {\"name\":\"Alice\",\"city\":\"Paris\"}\n",
        "\"city\" in dictionary_e\n"
      ],
      "metadata": {
        "colab": {
          "base_uri": "https://localhost:8080/"
        },
        "id": "p0ssfeYtKJDU",
        "outputId": "afdb0824-f30e-433c-e553-3ddf4ba8dd28"
      },
      "execution_count": 13,
      "outputs": [
        {
          "output_type": "execute_result",
          "data": {
            "text/plain": [
              "True"
            ]
          },
          "metadata": {},
          "execution_count": 13
        }
      ]
    },
    {
      "cell_type": "code",
      "source": [
        "#26.Write a code to create a list, a tuple, and a dictionary, and print them all.?\n",
        "list_1 = [1,2,3,4]\n",
        "tuple_1 = (1,2,3,4)\n",
        "dictionary_1 = {\"name\":\"Anuj\",\"age\":22}\n",
        "print(list_1)\n",
        "print(tuple_1)\n",
        "print(dictionary_1)"
      ],
      "metadata": {
        "colab": {
          "base_uri": "https://localhost:8080/"
        },
        "id": "QgcLyDKlKsk4",
        "outputId": "7e8f693f-0ae7-4fe7-b215-fd7e80be4e36"
      },
      "execution_count": 14,
      "outputs": [
        {
          "output_type": "stream",
          "name": "stdout",
          "text": [
            "[1, 2, 3, 4]\n",
            "(1, 2, 3, 4)\n",
            "{'name': 'Anuj', 'age': 22}\n"
          ]
        }
      ]
    },
    {
      "cell_type": "code",
      "source": [
        "#27. Write a code to create a list of 5 random numbers between 1 and 100, sort it in ascending order, and print the result.(replaced)\n",
        "import random\n",
        "\n",
        "ran = random.sample(range(1,100),5)\n",
        "ran.sort()\n",
        "print(ran)"
      ],
      "metadata": {
        "colab": {
          "base_uri": "https://localhost:8080/"
        },
        "id": "dzzQx3XVLDLa",
        "outputId": "79d6f4e4-f05c-422b-d915-9956ec6acddf"
      },
      "execution_count": 17,
      "outputs": [
        {
          "output_type": "stream",
          "name": "stdout",
          "text": [
            "[17, 31, 46, 98, 99]\n"
          ]
        }
      ]
    },
    {
      "cell_type": "code",
      "source": [
        "#28.Write a code to create a list with strings and print the element at the third index.?\n",
        "list_2 = [\"a\",\"b\",\"c\",\"d\"]\n",
        "list_2[3]"
      ],
      "metadata": {
        "colab": {
          "base_uri": "https://localhost:8080/",
          "height": 36
        },
        "id": "xgRWCLniMfDJ",
        "outputId": "acaeee40-ec8d-4989-b61e-29bac136b891"
      },
      "execution_count": 19,
      "outputs": [
        {
          "output_type": "execute_result",
          "data": {
            "text/plain": [
              "'d'"
            ],
            "application/vnd.google.colaboratory.intrinsic+json": {
              "type": "string"
            }
          },
          "metadata": {},
          "execution_count": 19
        }
      ]
    },
    {
      "cell_type": "code",
      "source": [
        "#29.Write a code to combine two dictionaries into one and print the result?\n",
        "dic_1 = {\"name\":\"Anuj\",\"age\":25}\n",
        "dic_2 = {\"city\":\"Delhi\",\"email\":\"Anujraghav@gmail.com\"}\n",
        "dic_3 = dic_1.copy()\n",
        "dic_3.update(dic_2)\n",
        "dic_3"
      ],
      "metadata": {
        "colab": {
          "base_uri": "https://localhost:8080/"
        },
        "id": "jJsyaS37Ndy1",
        "outputId": "378bb1d3-836c-4f40-b6c4-45a218854fea"
      },
      "execution_count": 21,
      "outputs": [
        {
          "output_type": "execute_result",
          "data": {
            "text/plain": [
              "{'name': 'Anuj', 'age': 25, 'city': 'Delhi', 'email': 'Anujraghav@gmail.com'}"
            ]
          },
          "metadata": {},
          "execution_count": 21
        }
      ]
    },
    {
      "cell_type": "code",
      "source": [
        "# 30. Write a code to convert a list of strings into a set?\n",
        "list_3 = [\"a\",\"b\",\"c\",\"d\"]\n",
        "set_1 = set(list_3)\n",
        "set_1"
      ],
      "metadata": {
        "colab": {
          "base_uri": "https://localhost:8080/"
        },
        "id": "SZtDaheFOKPc",
        "outputId": "57526158-ed20-47b9-b351-0ddc33a528e9"
      },
      "execution_count": 22,
      "outputs": [
        {
          "output_type": "execute_result",
          "data": {
            "text/plain": [
              "{'a', 'b', 'c', 'd'}"
            ]
          },
          "metadata": {},
          "execution_count": 22
        }
      ]
    },
    {
      "cell_type": "code",
      "source": [],
      "metadata": {
        "id": "W8iBmjIAPpCj"
      },
      "execution_count": null,
      "outputs": []
    }
  ]
}